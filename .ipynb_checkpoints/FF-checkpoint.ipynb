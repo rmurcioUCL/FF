{
 "cells": [
  {
   "cell_type": "code",
   "execution_count": 1,
   "metadata": {},
   "outputs": [
    {
     "name": "stdout",
     "output_type": "stream",
     "text": [
      "(843, 4)\n",
      "    s1   s2  score  dist\n",
      "0  538  537    0.0   125\n",
      "1  137  136    0.0   213\n",
      "2  260  259    0.0   200\n",
      "3  623  532    0.0   125\n",
      "4  558  222    0.0   100\n",
      "(237973, 8)\n",
      "   s1  s2     distc     pearc     speac        te  direction   timestamp\n",
      "0   6   5  0.245330  0.754670  0.808405  0.127175          1  01/01/2017\n",
      "1   6   5  0.086547  0.913453  0.939917  0.107228          2  02/01/2017\n",
      "2   6   5  0.037344  0.962656  0.963367  0.104841          2  03/01/2017\n",
      "3   6   5  0.041158  0.958842  0.955418  0.000000          0  04/01/2017\n",
      "4   6   5  0.037523  0.962477  0.962141  0.097281          2  05/01/2017\n",
      "(237973, 10)\n",
      "    s1  s2     distc     pearc     speac        te  direction   timestamp  \\\n",
      "0    6   5  0.245330  0.754670  0.808405  0.127175          1  01/01/2017   \n",
      "1    6   5  0.086547  0.913453  0.939917  0.107228          2  02/01/2017   \n",
      "2    6   5  0.037344  0.962656  0.963367  0.104841          2  03/01/2017   \n",
      "3    6   5  0.041158  0.958842  0.955418  0.000000          0  04/01/2017   \n",
      "4    6   5  0.037523  0.962477  0.962141  0.097281          2  05/01/2017   \n",
      "5    6   5  0.051366  0.948634  0.943906  0.095796          2  06/01/2017   \n",
      "6    6   5  0.101536  0.898464  0.923465  0.104594          1  07/01/2017   \n",
      "7    6   5  0.109083  0.890917  0.909903  0.145064          1  08/01/2017   \n",
      "8    6   5  0.096558  0.903442  0.914447  0.104117          2  09/01/2017   \n",
      "9    6   5  0.044265  0.955735  0.958039  0.108780          2  10/01/2017   \n",
      "10   6   5  0.073369  0.926631  0.940191  0.000000          0  11/01/2017   \n",
      "11   6   5  0.036791  0.963209  0.962637  0.119895          1  12/01/2017   \n",
      "12   6   5  0.058599  0.941401  0.947849  0.131669          1  13/01/2017   \n",
      "13   6   5  0.255877  0.744123  0.908572  0.130676          2  14/01/2017   \n",
      "14   6   5  0.110853  0.889147  0.921271  0.111918          2  15/01/2017   \n",
      "15   6   5  0.050484  0.949516  0.955907  0.100328          2  16/01/2017   \n",
      "16   6   5  0.052895  0.947105  0.949710  0.096524          1  17/01/2017   \n",
      "17   6   5  0.055584  0.944416  0.949985  0.109871          2  18/01/2017   \n",
      "18   6   5  0.060668  0.939332  0.947665  0.085497          1  19/01/2017   \n",
      "19   6   5  0.047175  0.952825  0.949604  0.134473          1  20/01/2017   \n",
      "\n",
      "     score  dist  \n",
      "0   1376.0   172  \n",
      "1   1376.0   172  \n",
      "2   1376.0   172  \n",
      "3   1376.0   172  \n",
      "4   1376.0   172  \n",
      "5   1376.0   172  \n",
      "6   1376.0   172  \n",
      "7   1376.0   172  \n",
      "8   1376.0   172  \n",
      "9   1376.0   172  \n",
      "10  1376.0   172  \n",
      "11  1376.0   172  \n",
      "12  1376.0   172  \n",
      "13  1376.0   172  \n",
      "14  1376.0   172  \n",
      "15  1376.0   172  \n",
      "16  1376.0   172  \n",
      "17  1376.0   172  \n",
      "18  1376.0   172  \n",
      "19  1376.0   172  \n"
     ]
    }
   ],
   "source": [
    "import pandas as pd\n",
    "df = pd.read_csv('D:\\\\FF\\\\data\\\\routeScoreFinal.csv',names=['s1','s2','score','dist'])\n",
    "print(df.shape)\n",
    "print(df.head())\n",
    "dfp = pd.read_csv('D:\\\\FF\\\\data\\\\teF.csv')\n",
    "print(dfp.shape)\n",
    "print(dfp.head())\n",
    "new_df = pd.merge(dfp, df,  how='left', left_on=['s1','s2'], right_on = ['s1','s2'])\n",
    "print(new_df.shape)\n",
    "print(new_df.head(20))"
   ]
  },
  {
   "cell_type": "code",
   "execution_count": 2,
   "metadata": {},
   "outputs": [
    {
     "name": "stdout",
     "output_type": "stream",
     "text": [
      "(237973, 9)\n",
      "timestamp\n",
      "2017-01-01    2\n",
      "2017-01-02    1\n",
      "2017-01-03    1\n",
      "2017-01-04    1\n",
      "2017-01-05    0\n",
      "dtype: int64\n"
     ]
    }
   ],
   "source": [
    "df = pd.read_csv('D:\\\\FF\\\\data\\\\teF.csv')\n",
    "#df.sort_values(by=['timestamp'],ascending=True)\n",
    "df['uindex']=df['s1'].astype(str)+\"_\"+df['s2'].astype(str)\n",
    "#str(df['s1'])#+'-'+str(df['s2'])\n",
    "print(df.shape)\n",
    "df['timestamp'] = pd.to_datetime(df['timestamp'],format=\"%d/%m/%Y\")\n",
    "df['timestamp'] = [time.date() for time in df['timestamp']]\n",
    "tdf = df[df['uindex']=='125_98']\n",
    "idx = pd.DatetimeIndex(tdf.timestamp)\n",
    "series = pd.Series(tdf.direction.values,index=idx)\n",
    "\n",
    "print(series.head())"
   ]
  },
  {
   "cell_type": "code",
   "execution_count": 3,
   "metadata": {},
   "outputs": [],
   "source": [
    "uvalues = df['uindex'].unique().tolist()"
   ]
  },
  {
   "cell_type": "code",
   "execution_count": 4,
   "metadata": {},
   "outputs": [
    {
     "name": "stderr",
     "output_type": "stream",
     "text": [
      "D:\\Anaconda3\\lib\\site-packages\\pandas\\core\\frame.py:6692: FutureWarning: Sorting because non-concatenation axis is not aligned. A future version\n",
      "of pandas will change to not sort by default.\n",
      "\n",
      "To accept the future behavior, pass 'sort=False'.\n",
      "\n",
      "To retain the current behavior and silence the warning, pass 'sort=True'.\n",
      "\n",
      "  sort=sort)\n"
     ]
    },
    {
     "name": "stdout",
     "output_type": "stream",
     "text": [
      "     direction  timestamp   uindex\n",
      "344        2.0 2017-12-27  670_249\n",
      "345        0.0 2017-12-28  670_249\n",
      "346        0.0 2017-12-29  670_249\n",
      "347        2.0 2017-12-30  670_249\n",
      "348        2.0 2017-12-31  670_249\n"
     ]
    }
   ],
   "source": [
    "ff = pd.DataFrame({'uindex':[],'timestamp':[],'direction':[]})\n",
    "for row in uvalues:\n",
    "    #print(row)\n",
    "    tdf = df[df['uindex']==row]\n",
    "    idx = pd.DatetimeIndex(tdf.timestamp)\n",
    "    series = pd.Series(tdf.direction.values,index=idx)\n",
    "    a=series.resample('D').mean()\n",
    "    a = a.reset_index(name='direction')\n",
    "    ndf = pd.DataFrame(data=a)\n",
    "    ndf['uindex']=row\n",
    "    ff=ff.append(ndf)\n",
    "print(ff.tail())"
   ]
  },
  {
   "cell_type": "code",
   "execution_count": 30,
   "metadata": {},
   "outputs": [
    {
     "data": {
      "text/plain": [
       "timestamp\n",
       "2017-01-01   -1\n",
       "2017-01-02    2\n",
       "2017-01-03    2\n",
       "2017-01-04    1\n",
       "2017-01-05    2\n",
       "Name: 207_191, dtype: int64"
      ]
     },
     "execution_count": 30,
     "metadata": {},
     "output_type": "execute_result"
    }
   ],
   "source": [
    "p = ff.pivot_table(index='uindex',columns='timestamp',values='direction',fill_value=-1)\n",
    "p.iloc[1:2,0:5]"
   ]
  },
  {
   "cell_type": "code",
   "execution_count": 36,
   "metadata": {},
   "outputs": [
    {
     "data": {
      "text/plain": [
       "365"
      ]
     },
     "execution_count": 36,
     "metadata": {},
     "output_type": "execute_result"
    }
   ],
   "source": [
    "len(p[p.index.isin(df2.index)].iloc[89,:])\n"
   ]
  },
  {
   "cell_type": "code",
   "execution_count": 26,
   "metadata": {},
   "outputs": [
    {
     "data": {
      "image/png": "[encoded data removed]",
      "text/plain": [
       "<Figure size 432x288 with 1 Axes>"
      ]
     },
     "metadata": {
      "needs_background": "light"
     },
     "output_type": "display_data"
    }
   ],
   "source": [
    "t = p[p.index.isin(df2.index)].iloc[0:1,60:90]\n",
    "t.shape\n",
    "_ = plt.hist(t, bins='auto')"
   ]
  },
  {
   "cell_type": "code",
   "execution_count": 20,
   "metadata": {},
   "outputs": [
    {
     "data": {
      "image/png": "[encoded data removed]",
      "text/plain": [
       "<Figure size 432x288 with 1 Axes>"
      ]
     },
     "metadata": {
      "needs_background": "light"
     },
     "output_type": "display_data"
    }
   ],
   "source": [
    "_ = plt.hist(t, bins='auto')"
   ]
  },
  {
   "cell_type": "code",
   "execution_count": 15,
   "metadata": {},
   "outputs": [
    {
     "name": "stdout",
     "output_type": "stream",
     "text": [
      "1\n"
     ]
    },
    {
     "data": {
      "image/png": "[encoded data removed]",
      "text/plain": [
       "<Figure size 432x288 with 1 Axes>"
      ]
     },
     "metadata": {
      "needs_background": "light"
     },
     "output_type": "display_data"
    }
   ],
   "source": [
    "import matplotlib.mlab as mlab\n",
    "import matplotlib.pyplot as plt\n",
    "import statistics as s\n",
    "x = p.iloc[0:3,0:].values\n",
    "print(s.mode(x[0]))\n",
    "\n",
    "_ = plt.hist(x[0], bins='auto')"
   ]
  },
  {
   "cell_type": "code",
   "execution_count": null,
   "metadata": {},
   "outputs": [],
   "source": [
    "import statistics as s\n",
    "from collections import Counter\n",
    "count=0\n",
    "for i in range(0,832):\n",
    "    try:\n",
    "        x = p.iloc[i:i+1,0:].values\n",
    "        m = s.mode(x[0])\n",
    "        if m==-1:\n",
    "            count=count+1\n",
    "            print(p.iloc[i:i+1].index.values[0])\n",
    "    except:\n",
    "        #print(p.iloc[i:i+1].index.values[0])\n",
    "        print(\"\")\n",
    "print(count)"
   ]
  },
  {
   "cell_type": "code",
   "execution_count": 217,
   "metadata": {},
   "outputs": [],
   "source": [
    "import collections as c\n",
    "nlst = []\n",
    "\n",
    "dirTest='D:\\\\FF\\\\data\\\\'\n",
    "\n",
    "for i in range(0,832):\n",
    "    nlstm = []\n",
    "    x = p.iloc[i:i+1,0:].values\n",
    "    l = len(x[0])\n",
    "    mone = (c.Counter((x[0]))[-1]*100)/l\n",
    "    zero = (c.Counter((x[0]))[0]*100)/l\n",
    "    one = (c.Counter((x[0]))[1]*100)/l\n",
    "    two = (c.Counter((x[0]))[2]*100)/l\n",
    "    nlstm.append([mone,zero,one,two])\n",
    "    r = nlstm[0].index(max(nlstm[0]))\n",
    "    trend=1\n",
    "    for j in (0,3):\n",
    "        if nlstm[0][r]-nlstm[0][j] < 10 and r!=j:\n",
    "            trend = 0\n",
    "            r =-1\n",
    "    nlst.append([p.iloc[i:i+1].index.values[0],mone,zero,one,two,trend,r])\n",
    "    #print(nlst)\n",
    "ndf = pd.DataFrame(nlst)\n",
    "ndf.to_csv(dirTest+'dirPerc.csv')"
   ]
  },
  {
   "cell_type": "code",
   "execution_count": 212,
   "metadata": {},
   "outputs": [
    {
     "name": "stdout",
     "output_type": "stream",
     "text": [
      "2\n",
      "52.602739726027394 44.10958904109589\n"
     ]
    }
   ],
   "source": [
    "nlstm = []\n",
    "x = p.iloc[83:84,0:].values\n",
    "l = len(x[0])\n",
    "mone = (c.Counter((x[0]))[-1]*100)/l\n",
    "zero = (c.Counter((x[0]))[0]*100)/l\n",
    "one = (c.Counter((x[0]))[1]*100)/l\n",
    "two = (c.Counter((x[0]))[2]*100)/l\n",
    "nlstm.append([mone,zero,one,two])\n",
    "r =   nlstm[0].index(max(nlstm[0]))\n",
    "print(r)\n",
    "for j in (0,3):\n",
    "    if nlstm[0][r]-nlstm[0][j] < 10 and r!=j:\n",
    "        print(nlstm[0][r],nlstm[0][j])"
   ]
  },
  {
   "cell_type": "code",
   "execution_count": 188,
   "metadata": {},
   "outputs": [
    {
     "name": "stdout",
     "output_type": "stream",
     "text": [
      "3\n"
     ]
    }
   ],
   "source": [
    "print(nlst[0].index(max(nlst[0])))"
   ]
  },
  {
   "cell_type": "code",
   "execution_count": 2,
   "metadata": {},
   "outputs": [
    {
     "name": "stdout",
     "output_type": "stream",
     "text": [
      "475_195\n"
     ]
    }
   ],
   "source": [
    "import pandas as pd\n",
    "df = pd.read_csv('D:\\\\FF\\\\data\\\\routeScoreFinal2.csv',index_col='location')\n",
    "print(df.index[0])"
   ]
  },
  {
   "cell_type": "code",
   "execution_count": 43,
   "metadata": {},
   "outputs": [
    {
     "data": {
      "image/png": "[encoded data removed]",
      "text/plain": [
       "<Figure size 1080x1080 with 1 Axes>"
      ]
     },
     "metadata": {
      "needs_background": "light"
     },
     "output_type": "display_data"
    }
   ],
   "source": [
    "import matplotlib.pyplot as plt\n",
    "import numpy as np\n",
    "plt.figure(figsize=(15,15))\n",
    "plt.scatter(df['dist'],df['score'],facecolors='black',alpha=.55, s=10)\n",
    "plt.scatter(df[df.index.isin(df1.index)]['dist'], df[df.index.isin(df1.index)]['score'], color=\"red\",s=50)\n",
    "plt.scatter(df[df.index.isin(df2.index)]['dist'], df[df.index.isin(df2.index)]['score'], color=\"blue\",s=50)\n",
    "plt.axis([50,475,0,8000])\n",
    "plt.xticks(np.arange(50, 500, step=20))\n",
    "plt.yticks(np.arange(0, 8000, step=250))\n",
    "axes = plt.gca()\n",
    "axes.grid()\n",
    "plt.show()"
   ]
  },
  {
   "cell_type": "code",
   "execution_count": 36,
   "metadata": {},
   "outputs": [
    {
     "data": {
      "image/png": "[encoded data removed]",
      "text/plain": [
       "<Figure size 432x288 with 1 Axes>"
      ]
     },
     "metadata": {
      "needs_background": "light"
     },
     "output_type": "display_data"
    }
   ],
   "source": [
    "dfone = df[df.index.isin(df1.index)]['dist']\n",
    "dftwo = df[df.index.isin(df2.index)]['dist']\n",
    "dfmax =  max(df['dist'])\n",
    "dfmin =  min(df['dist'])\n",
    "df1max =  max(dfone)\n",
    "df1min =  min(dfone)\n",
    "df2max =  max(dftwo)\n",
    "df2min =  min(dftwo)\n",
    "a = (df['dist']-dfmin) / (dfmax - dfmin)\n",
    "\n",
    "b = (dfone-df1min) / (df1max - df1min)\n",
    "c = (dftwo-df2min) / (df2max - df2min)\n",
    "#hist = a.hist(bins=20)\n",
    "hist = b.hist(bins=20)\n",
    "hist = c.hist(bins=20)\n",
    "#hist = df[df.index.isin(df2.index)]['dist'].hist(bins=20)\n",
    "#hist = df[df.index.isin(df1.index)]['dist'].hist(bins=20)"
   ]
  },
  {
   "cell_type": "code",
   "execution_count": 54,
   "metadata": {},
   "outputs": [
    {
     "data": {
      "image/png": "[encoded data removed]",
      "text/plain": [
       "<Figure size 432x288 with 1 Axes>"
      ]
     },
     "metadata": {
      "needs_background": "light"
     },
     "output_type": "display_data"
    }
   ],
   "source": [
    "dfone = df[df.index.isin(df1.index)]['score']\n",
    "dftwo = df[df.index.isin(df2.index)]['score']\n",
    "dfmax =  max(df['score'])\n",
    "dfmin =  min(df['score'])\n",
    "df1max =  max(dfone)\n",
    "df1min =  min(dfone)\n",
    "df2max =  max(dftwo)\n",
    "df2min =  min(dftwo)\n",
    "a = (df['score']-dfmin) / (dfmax - dfmin)\n",
    "\n",
    "b = (dfone-df1min) / (df1max - df1min)\n",
    "c = (dftwo-df2min) / (df2max - df2min)\n",
    "#hist = a.hist(bins=20)\n",
    "hist = b.hist(bins=20)\n",
    "#hist = c.hist(bins=20)\n",
    "#hist = df[df.index.isin(df2.index)]['dist'].hist(bins=20)\n",
    "#hist = df[df.index.isin(df1.index)]['dist'].hist(bins=20)"
   ]
  },
  {
   "cell_type": "code",
   "execution_count": 45,
   "metadata": {},
   "outputs": [
    {
     "name": "stdout",
     "output_type": "stream",
     "text": [
      "0.17696267294951326\n",
      "0.31514682113746223\n",
      "0.3801116142881354\n"
     ]
    },
    {
     "data": {
      "image/png": "[encoded data removed]",
      "text/plain": [
       "<Figure size 432x288 with 1 Axes>"
      ]
     },
     "metadata": {
      "needs_background": "light"
     },
     "output_type": "display_data"
    }
   ],
   "source": [
    "import numpy as np\n",
    "hist = a.hist(bins=20)\n",
    "print(np.mean(a))\n",
    "print(np.mean(b))\n",
    "print(np.mean(c))"
   ]
  },
  {
   "cell_type": "code",
   "execution_count": 6,
   "metadata": {
    "scrolled": true
   },
   "outputs": [],
   "source": [
    "df1 = pd.read_csv('D:\\\\FF\\\\data\\\\nodirection.csv',index_col='location')\n",
    "df2 = pd.read_csv('D:\\\\FF\\\\data\\\\noTE.csv',index_col='location')\n",
    "#print(df[df.index.isin(df2.index)]['dist'])"
   ]
  },
  {
   "cell_type": "code",
   "execution_count": 277,
   "metadata": {},
   "outputs": [
    {
     "name": "stdout",
     "output_type": "stream",
     "text": [
      "(93, 4)\n",
      "(92, 1)\n"
     ]
    }
   ],
   "source": [
    "print(df1.shape)\n",
    "print(df2.shape)"
   ]
  },
  {
   "cell_type": "code",
   "execution_count": 305,
   "metadata": {},
   "outputs": [],
   "source": [
    "import numpy as np\n",
    "from sklearn.datasets.samples_generator import make_blobs\n",
    "from sklearn.cluster import KMeans\n",
    "kmeans = KMeans(n_clusters=4).fit_predict(df)"
   ]
  },
  {
   "cell_type": "code",
   "execution_count": 303,
   "metadata": {},
   "outputs": [
    {
     "data": {
      "text/plain": [
       "array([2, 2, 2, 2, 0, 2, 2, 2, 0, 0, 2, 2, 4, 0, 5, 1, 0, 2, 0, 4, 5, 0,\n",
       "       0, 0, 4, 0, 1, 0, 2, 4, 1, 4, 1, 4, 1, 1, 1, 0, 5, 3, 2, 4, 4, 4,\n",
       "       2, 2, 2, 4, 0, 0, 2, 5, 0, 0, 0, 2, 2, 3, 1, 2, 0, 0, 2, 2, 0, 1,\n",
       "       2, 4, 4, 0, 0, 2, 4, 0, 4, 0, 2, 0, 0, 4, 0, 2, 0, 4, 4, 2, 2, 5,\n",
       "       2, 2, 1, 0, 0, 1, 4, 4, 2, 1, 4, 0, 2, 2, 5, 2, 1, 1, 0, 4, 2, 0,\n",
       "       0, 0, 1, 0, 2, 0, 1, 5, 2, 4, 4, 2, 2, 2, 4, 2, 4, 2, 0, 2, 0, 2,\n",
       "       4, 1, 3, 2, 4, 0, 4, 4, 2, 2, 2, 4, 2, 0, 2, 0, 0, 0, 0, 0, 4, 4,\n",
       "       0, 5, 0, 4, 2, 3, 4, 4, 4, 4, 0, 0, 1, 4, 2, 1, 0, 0, 1, 0, 4, 0,\n",
       "       4, 0, 1, 1, 0, 0, 0, 0, 4, 5, 2, 1, 5, 0, 0, 2, 0, 4, 0, 2, 4, 0,\n",
       "       0, 0, 4, 4, 1, 0, 4, 2, 1, 4, 2, 4, 4, 4, 0, 4, 2, 0, 4, 0, 2, 2,\n",
       "       1, 2, 1, 1, 5, 0, 0, 4, 3, 1, 4, 1, 2, 0, 2, 4, 1, 2, 1, 1, 2, 2,\n",
       "       4, 4, 2, 2, 4, 4, 4, 4, 2, 2, 4, 2, 2, 1, 1, 4, 2, 5, 4, 0, 2, 0,\n",
       "       5, 2, 2, 1, 4, 0, 0, 4, 1, 2, 1, 2, 0, 2, 0, 0, 1, 2, 1, 4, 4, 4,\n",
       "       0, 1, 2, 2, 4, 0, 2, 2, 0, 0, 0, 4, 2, 0, 2, 1, 4, 4, 0, 0, 2, 1,\n",
       "       2, 2, 2, 0, 2, 0, 0, 1, 4, 0, 4, 0, 2, 0, 0, 5, 3, 0, 2, 2, 4, 4,\n",
       "       0, 2, 0, 0, 4, 2, 2, 0, 0, 4, 2, 2, 4, 0, 1, 0, 4, 1, 0, 2, 2, 1,\n",
       "       1, 4, 0, 0, 4, 0, 2, 0, 1, 0, 0, 2, 4, 2, 2, 0, 2, 0, 1, 1, 2, 4,\n",
       "       0, 4, 4, 4, 4, 0, 4, 5, 0, 2, 4, 1, 1, 4, 4, 1, 2, 0, 0, 5, 4, 4,\n",
       "       2, 2, 4, 1, 4, 2, 2, 4, 2, 1, 1, 1, 5, 0, 1, 2, 0, 4, 0, 5, 0, 2,\n",
       "       5, 2, 0, 1, 0, 4, 0, 0, 0, 4, 0, 4, 0, 2, 4, 1, 0, 5, 4, 4, 0, 0,\n",
       "       2, 4, 2, 1, 4, 0, 4, 0, 4, 0, 0, 0, 0, 1, 1, 0, 2, 1, 1, 1, 5, 2,\n",
       "       2, 1, 0, 2, 4, 1, 4, 2, 0, 4, 0, 4, 0, 4, 1, 2, 4, 4, 2, 0, 1, 2,\n",
       "       4, 0, 4, 1, 4, 2, 5, 4, 4, 0, 4, 4, 1, 4, 1, 2, 1, 2, 2, 4, 0, 0,\n",
       "       0, 4, 4, 1, 2, 4, 4, 4, 2, 2, 4, 1, 2, 0, 4, 5, 2, 2, 0, 1, 4, 2,\n",
       "       1, 4, 0, 0, 1, 2, 2, 1, 0, 0, 4, 1, 4, 4, 5, 1, 2, 1, 2, 1, 1, 4,\n",
       "       4, 1, 4, 2, 2, 0, 0, 2, 5, 2, 1, 2, 4, 1, 0, 4, 0, 2, 2, 2, 2, 2,\n",
       "       2, 2, 5, 5, 0, 0, 3, 2, 5, 0, 4, 1, 4, 0, 4, 1, 2, 2, 1, 1, 0, 0,\n",
       "       2, 2, 0, 4, 2, 4, 1, 1, 0, 2, 2, 2, 4, 2, 0, 0, 1, 4, 2, 0, 2, 1,\n",
       "       5, 1, 0, 1, 5, 0, 0, 1, 0, 0, 2, 2, 0, 5, 1, 4, 4, 0, 2, 4, 0, 0,\n",
       "       3, 2, 4, 4, 0, 2, 1, 0, 5, 4, 4, 1, 0, 2, 1, 2, 4, 0, 1, 0, 4, 2,\n",
       "       2, 4, 2, 2, 1, 5, 2, 5, 5, 0, 2, 2, 2, 0, 4, 0, 0, 2, 1, 4, 0, 4,\n",
       "       1, 5, 1, 1, 0, 1, 4, 4, 2, 4, 4, 1, 0, 2, 1, 0, 2, 2, 1, 0, 4, 0,\n",
       "       2, 1, 2, 4, 4, 4, 4, 2, 4, 5, 1, 4, 4, 4, 0, 2, 2, 0, 2, 2, 2, 1,\n",
       "       2, 4, 2, 0, 0, 2, 5, 4, 0, 5, 0, 4, 0, 0, 2, 4, 0, 4, 4, 2, 0, 4,\n",
       "       0, 1, 2, 2, 0, 4, 0, 4, 1, 0, 0, 4, 2, 5, 4, 5, 4, 0, 2, 1, 2, 1,\n",
       "       2, 0, 1, 4, 0, 0, 5, 1, 2, 1, 0, 0, 0, 4, 4, 4, 4, 4, 4, 2, 4, 4,\n",
       "       0, 1, 4, 1, 1, 4, 4, 0, 0, 2, 1, 4, 2, 5, 5, 1, 5, 2, 4, 0, 2, 4,\n",
       "       5, 2, 1, 0, 4, 1, 1, 1, 2, 0, 4, 1, 4, 4, 5, 4, 4, 2, 1, 4, 2, 4,\n",
       "       5, 1, 2, 4, 4, 2, 0])"
      ]
     },
     "execution_count": 303,
     "metadata": {},
     "output_type": "execute_result"
    }
   ],
   "source": [
    "kmeans"
   ]
  },
  {
   "cell_type": "code",
   "execution_count": 2,
   "metadata": {},
   "outputs": [
    {
     "name": "stdout",
     "output_type": "stream",
     "text": [
      "E02000001_2.json\n",
      "E02000001_3.json\n",
      "E02000001_4.json\n",
      "E02000001_5.json\n",
      "E02000001_6.json\n",
      "E02000001_7.json\n",
      "E02000001_8.json\n",
      "E02000001_9.json\n",
      "E02000001_10.json\n",
      "E02000001_11.json\n",
      "E02000001_12.json\n"
     ]
    }
   ],
   "source": [
    "import json\n",
    "outfile = 'D:/FF/FFmaster/FF-master/data/odLondon/list_'\n",
    "for i in range(2,13):\n",
    "    filename = 'E02000001_'+str(i)+'.json'\n",
    "    #filename = 'E02000001.json'\n",
    "    outfile=outfile+filename[:-5]+'.csv'\n",
    "    print(filename)\n",
    "    f = open(outfile,\"w+\")\n",
    "    result = ''\n",
    "    with open('D:/FF/FFmaster/FF-master/data/odLondon/'+filename) as json_file:\n",
    "        data = json.load(json_file)\n",
    "        for p in data['rows']:\n",
    "            for r in p['elements']:\n",
    "                try:\n",
    "                    tokens = r['duration']['text'].split()\n",
    "                    #print(tokens)\n",
    "                    if len(tokens)>2:\n",
    "                        mins = int(tokens[0])*60+int(tokens[2])\n",
    "                    else:\n",
    "                        mins = int(tokens[0])\n",
    "                    result = r['distance']['text']+','+ str(mins)\n",
    "                    #print(result)\n",
    "                    '''if len(r['duration']['text'])>7:\n",
    "                            mins = int(r['duration']['text'][:-12])*60\n",
    "                            #print(r['distance']['text'],'-',mins)\n",
    "                            result = r['distance']['text']+','+ str(mins)\n",
    "                            print(result)\n",
    "                    else:\n",
    "                            print(r['distance']['text']+','+r['duration']['text'][:-4])\n",
    "                            result = r['distance']['text']+','+r['duration']['text'][:-4]'''\n",
    "                        #f.write(\"%s\\n\" % result)\n",
    "                except:\n",
    "                    result = 'Error'\n",
    "                f.write(\"%s\\n\" % result)        \n",
    "    f.close()\n",
    "    outfile = 'D:/FF/FFmaster/FF-master/data/odLondon/list_'"
   ]
  },
  {
   "cell_type": "code",
   "execution_count": 4,
   "metadata": {},
   "outputs": [
    {
     "name": "stdout",
     "output_type": "stream",
     "text": [
      " NW2 1DD\n",
      "NW11 8LY\n",
      "NW11 9LY\n",
      " NW9 7QB\n",
      "NW11 7XL\n",
      " NW4 2PJ\n",
      "n N2 0QH\n",
      " NW4 4AG\n",
      " NW4 4LP\n",
      " NW9 6RY\n",
      "n N2 8GA\n",
      "n N3 3PA\n",
      "n N2 9AJ\n",
      "ndon NW9\n",
      " NW7 1NG\n",
      " HA8 0EP\n",
      "n N3 2DD\n",
      " N11 3NN\n",
      " HA8 9DG\n",
      " N12 7LP\n",
      " N12 0EY\n",
      " HA8 9XF\n",
      " NW7 1AD\n",
      " NW7 2PT\n",
      " N11 3JP\n",
      " HA8 8QJ\n",
      " HA8 9TB\n",
      " N12 7EA\n",
      " N20 0NN\n",
      "ndon N11\n",
      " N14 5RR\n",
      " N20 9EB\n",
      " EN5 2AG\n",
      " EN4 8JB\n",
      " EN5 1JJ\n",
      " EN5 2DY\n",
      " EN4 9JX\n",
      " EN5 5PD\n",
      " EN5 4PL\n",
      "IG11 0QA\n",
      "IG11 7JP\n",
      " RM9 6DZ\n",
      "IG11 0HZ\n",
      "IG11 0UE\n",
      "IG11 9LL\n",
      "IG11 9TL\n",
      "IG11 8FH\n",
      "RM10 9TS\n",
      " RM9 6HR\n",
      " RM9 4AA\n"
     ]
    }
   ],
   "source": [
    "from geopy.geocoders import Nominatim\n",
    "import json\n",
    "locator = Nominatim(user_agent='myGeocoder')\n",
    "str1 = 'IG11 9HD'.rstrip()\n",
    "location = locator.geocode(str)\n",
    "#print('Latitude = {}, Longitude = {}'.format(location.latitude, location.longitude))\n",
    "outfile = 'D:/FF/FFmaster/FF-master/data/odLondon/coordsE01_2.csv'\n",
    "#f = open(outfile,\"w+\")\n",
    "result=''\n",
    "with open('D:/FF/FFmaster/FF-master/data/odLondon/E02000001_1.json') as json_file:\n",
    "    data = json.load(json_file)\n",
    "    for p in data['destination_addresses']:\n",
    "        #str1 = p[len(p)-12:len(p)-4].rstrip()\n",
    "        tokens = p.split()\n",
    "        print(tokens)\n",
    "'''        try:\n",
    "            location = locator.geocode(str1)\n",
    "            result = str(location.latitude)+','+str(location.longitude)\n",
    "        except:\n",
    "            result = 'Error'\n",
    "        print(str1)\n",
    "        f.write(\"%s\\n\" % result) '''\n",
    "        \n",
    "#f.close()\n",
    "        #print('Latitude = {}, Longitude = {}'.format(location.latitude, location.longitude))"
   ]
  },
  {
   "cell_type": "code",
   "execution_count": null,
   "metadata": {},
   "outputs": [],
   "source": []
  }
 ],
 "metadata": {
  "kernelspec": {
   "display_name": "Python 3",
   "language": "python",
   "name": "python3"
  },
  "language_info": {
   "codemirror_mode": {
    "name": "ipython",
    "version": 3
   },
   "file_extension": ".py",
   "mimetype": "text/x-python",
   "name": "python",
   "nbconvert_exporter": "python",
   "pygments_lexer": "ipython3",
   "version": "3.7.3"
  }
 },
 "nbformat": 4,
 "nbformat_minor": 2
}
